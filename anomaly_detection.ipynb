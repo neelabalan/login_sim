{
 "cells": [
  {
   "attachments": {},
   "cell_type": "markdown",
   "metadata": {},
   "source": [
    "*Note: the Poisson distribution is discrete while the others are continuous. We use the Poisson distribution to model arrivals (users coming to login for this example). Discrete distributions have PMFs (probability mass functions) instead of PDFs.*"
   ]
  },
  {
   "cell_type": "code",
   "execution_count": null,
   "metadata": {},
   "outputs": [],
   "source": [
    "!pip install numpy pandas matplotlib"
   ]
  },
  {
   "cell_type": "code",
   "execution_count": 46,
   "metadata": {},
   "outputs": [],
   "source": [
    "%matplotlib inline\n",
    "import matplotlib.pyplot as plt\n",
    "import numpy as np\n",
    "import pandas as pd\n",
    "import seaborn as sns\n",
    "\n",
    "log = pd.read_csv('logs/log.csv', index_col='datetime', parse_dates=True)\n",
    "attacks = pd.read_csv(\n",
    "    'logs/attack.csv',\n",
    "    converters={'start': np.datetime64, 'end': np.datetime64}\n",
    ") # make start and end columns datetimes but not the index"
   ]
  },
  {
   "cell_type": "markdown",
   "metadata": {},
   "source": [
    "## Understanding the Data\n",
    "The login attempts recorded from the website look like this:"
   ]
  },
  {
   "cell_type": "code",
   "execution_count": 47,
   "metadata": {},
   "outputs": [
    {
     "data": {
      "text/html": [
       "<div>\n",
       "<style scoped>\n",
       "    .dataframe tbody tr th:only-of-type {\n",
       "        vertical-align: middle;\n",
       "    }\n",
       "\n",
       "    .dataframe tbody tr th {\n",
       "        vertical-align: top;\n",
       "    }\n",
       "\n",
       "    .dataframe thead th {\n",
       "        text-align: right;\n",
       "    }\n",
       "</style>\n",
       "<table border=\"1\" class=\"dataframe\">\n",
       "  <thead>\n",
       "    <tr style=\"text-align: right;\">\n",
       "      <th></th>\n",
       "      <th>source_ip</th>\n",
       "      <th>username</th>\n",
       "      <th>success</th>\n",
       "      <th>failure_reason</th>\n",
       "    </tr>\n",
       "    <tr>\n",
       "      <th>datetime</th>\n",
       "      <th></th>\n",
       "      <th></th>\n",
       "      <th></th>\n",
       "      <th></th>\n",
       "    </tr>\n",
       "  </thead>\n",
       "  <tbody>\n",
       "    <tr>\n",
       "      <th>2022-01-01 00:00:01</th>\n",
       "      <td>44.92.75.114</td>\n",
       "      <td>ZackWallace</td>\n",
       "      <td>True</td>\n",
       "      <td>NaN</td>\n",
       "    </tr>\n",
       "    <tr>\n",
       "      <th>2022-01-01 00:02:02</th>\n",
       "      <td>44.92.75.114</td>\n",
       "      <td>ZackWallace</td>\n",
       "      <td>True</td>\n",
       "      <td>NaN</td>\n",
       "    </tr>\n",
       "    <tr>\n",
       "      <th>2022-01-01 00:12:03</th>\n",
       "      <td>44.92.75.114</td>\n",
       "      <td>ZackWallace</td>\n",
       "      <td>True</td>\n",
       "      <td>NaN</td>\n",
       "    </tr>\n",
       "    <tr>\n",
       "      <th>2022-01-01 01:01:01</th>\n",
       "      <td>120.201.57.21</td>\n",
       "      <td>ArmandoWallace</td>\n",
       "      <td>True</td>\n",
       "      <td>NaN</td>\n",
       "    </tr>\n",
       "    <tr>\n",
       "      <th>2022-01-01 01:02:02</th>\n",
       "      <td>120.201.57.21</td>\n",
       "      <td>ArmandoWallace</td>\n",
       "      <td>True</td>\n",
       "      <td>NaN</td>\n",
       "    </tr>\n",
       "  </tbody>\n",
       "</table>\n",
       "</div>"
      ],
      "text/plain": [
       "                         source_ip        username  success failure_reason\n",
       "datetime                                                                  \n",
       "2022-01-01 00:00:01   44.92.75.114     ZackWallace     True            NaN\n",
       "2022-01-01 00:02:02   44.92.75.114     ZackWallace     True            NaN\n",
       "2022-01-01 00:12:03   44.92.75.114     ZackWallace     True            NaN\n",
       "2022-01-01 01:01:01  120.201.57.21  ArmandoWallace     True            NaN\n",
       "2022-01-01 01:02:02  120.201.57.21  ArmandoWallace     True            NaN"
      ]
     },
     "execution_count": 47,
     "metadata": {},
     "output_type": "execute_result"
    }
   ],
   "source": [
    "log.head()"
   ]
  },
  {
   "cell_type": "code",
   "execution_count": 48,
   "metadata": {},
   "outputs": [
    {
     "data": {
      "text/html": [
       "<div>\n",
       "<style scoped>\n",
       "    .dataframe tbody tr th:only-of-type {\n",
       "        vertical-align: middle;\n",
       "    }\n",
       "\n",
       "    .dataframe tbody tr th {\n",
       "        vertical-align: top;\n",
       "    }\n",
       "\n",
       "    .dataframe thead th {\n",
       "        text-align: right;\n",
       "    }\n",
       "</style>\n",
       "<table border=\"1\" class=\"dataframe\">\n",
       "  <thead>\n",
       "    <tr style=\"text-align: right;\">\n",
       "      <th></th>\n",
       "      <th>start</th>\n",
       "      <th>end</th>\n",
       "      <th>source_ip</th>\n",
       "    </tr>\n",
       "  </thead>\n",
       "  <tbody>\n",
       "    <tr>\n",
       "      <th>0</th>\n",
       "      <td>2022-01-01 14:32:00</td>\n",
       "      <td>2022-01-01 14:32:31</td>\n",
       "      <td>155.82.30.97</td>\n",
       "    </tr>\n",
       "    <tr>\n",
       "      <th>1</th>\n",
       "      <td>2022-01-01 16:41:00</td>\n",
       "      <td>2022-01-01 16:47:02</td>\n",
       "      <td>79.82.174.35</td>\n",
       "    </tr>\n",
       "    <tr>\n",
       "      <th>2</th>\n",
       "      <td>2022-01-03 03:05:00</td>\n",
       "      <td>2022-01-03 03:09:01</td>\n",
       "      <td>125.164.225.184</td>\n",
       "    </tr>\n",
       "    <tr>\n",
       "      <th>3</th>\n",
       "      <td>2022-01-03 07:38:00</td>\n",
       "      <td>2022-01-03 07:39:19</td>\n",
       "      <td>196.213.250.189</td>\n",
       "    </tr>\n",
       "    <tr>\n",
       "      <th>4</th>\n",
       "      <td>2022-01-03 13:21:00</td>\n",
       "      <td>2022-01-03 13:22:08</td>\n",
       "      <td>161.149.245.219</td>\n",
       "    </tr>\n",
       "  </tbody>\n",
       "</table>\n",
       "</div>"
      ],
      "text/plain": [
       "                start                 end        source_ip\n",
       "0 2022-01-01 14:32:00 2022-01-01 14:32:31     155.82.30.97\n",
       "1 2022-01-01 16:41:00 2022-01-01 16:47:02     79.82.174.35\n",
       "2 2022-01-03 03:05:00 2022-01-03 03:09:01  125.164.225.184\n",
       "3 2022-01-03 07:38:00 2022-01-03 07:39:19  196.213.250.189\n",
       "4 2022-01-03 13:21:00 2022-01-03 13:22:08  161.149.245.219"
      ]
     },
     "execution_count": 48,
     "metadata": {},
     "output_type": "execute_result"
    }
   ],
   "source": [
    "attacks.head()"
   ]
  },
  {
   "cell_type": "code",
   "execution_count": 49,
   "metadata": {},
   "outputs": [
    {
     "data": {
      "text/plain": [
       "((76, 3), (20691, 4))"
      ]
     },
     "execution_count": 49,
     "metadata": {},
     "output_type": "execute_result"
    }
   ],
   "source": [
    "attacks.shape, log.shape"
   ]
  },
  {
   "cell_type": "markdown",
   "metadata": {},
   "source": [
    "What percentage of IP addresses were from attackers?"
   ]
  },
  {
   "cell_type": "code",
   "execution_count": 50,
   "metadata": {},
   "outputs": [
    {
     "data": {
      "text/plain": [
       "0.16033755274261605"
      ]
     },
     "execution_count": 50,
     "metadata": {},
     "output_type": "execute_result"
    }
   ],
   "source": [
    "attacks.source_ip.nunique() / log.source_ip.nunique()"
   ]
  },
  {
   "attachments": {},
   "cell_type": "markdown",
   "metadata": {},
   "source": [
    "## EDA"
   ]
  },
  {
   "cell_type": "code",
   "execution_count": 51,
   "metadata": {},
   "outputs": [
    {
     "data": {
      "text/plain": [
       "[Text(0.5, 0, 'datetime'), Text(0, 0.5, 'attempts')]"
      ]
     },
     "execution_count": 51,
     "metadata": {},
     "output_type": "execute_result"
    },
    {
     "data": {
      "image/png": "[encoded data removed]",
      "text/plain": [
       "<Figure size 1080x360 with 1 Axes>"
      ]
     },
     "metadata": {
      "needs_background": "light"
     },
     "output_type": "display_data"
    }
   ],
   "source": [
    "# attempts over time\n",
    "log.assign(attempts=1).attempts.resample('1H').sum()\\\n",
    "    .plot(figsize=(15, 5), title='hourly attempts')\\\n",
    "    .set(xlabel='datetime', ylabel='attempts')"
   ]
  },
  {
   "cell_type": "markdown",
   "metadata": {},
   "source": [
    "How many attempts came from each IP address?"
   ]
  },
  {
   "cell_type": "code",
   "execution_count": 52,
   "metadata": {},
   "outputs": [
    {
     "data": {
      "text/plain": [
       "count    474.000000\n",
       "mean      43.651899\n",
       "std      102.298774\n",
       "min        1.000000\n",
       "25%        3.000000\n",
       "50%        6.000000\n",
       "75%       11.000000\n",
       "max      437.000000\n",
       "Name: source_ip, dtype: float64"
      ]
     },
     "execution_count": 52,
     "metadata": {},
     "output_type": "execute_result"
    }
   ],
   "source": [
    "log.source_ip.value_counts().describe()"
   ]
  },
  {
   "cell_type": "markdown",
   "metadata": {},
   "source": [
    "What does the distribution of attempts per IP address look like?"
   ]
  },
  {
   "cell_type": "code",
   "execution_count": 53,
   "metadata": {},
   "outputs": [
    {
     "data": {
      "text/plain": [
       "Text(0.5, 0.98, 'Attempts per IP Address')"
      ]
     },
     "execution_count": 53,
     "metadata": {},
     "output_type": "execute_result"
    },
    {
     "data": {
      "image/png": "[encoded data removed]",
      "text/plain": [
       "<Figure size 1080x360 with 2 Axes>"
      ]
     },
     "metadata": {
      "needs_background": "light"
     },
     "output_type": "display_data"
    }
   ],
   "source": [
    "fig, axes = plt.subplots(1, 2, figsize=(15, 5))\n",
    "log.source_ip.value_counts().plot(kind='box', ax=axes[0]).set_ylabel('attempts')\n",
    "log.source_ip.value_counts().plot(kind='hist', bins=50, ax=axes[1]).set_xlabel('attempts')\n",
    "fig.suptitle('Attempts per IP Address')"
   ]
  },
  {
   "cell_type": "markdown",
   "metadata": {},
   "source": [
    "What percent of the top IP addresses are hackers?"
   ]
  },
  {
   "cell_type": "code",
   "execution_count": 54,
   "metadata": {},
   "outputs": [
    {
     "data": {
      "text/plain": [
       "0.9605263157894737"
      ]
     },
     "execution_count": 54,
     "metadata": {},
     "output_type": "execute_result"
    }
   ],
   "source": [
    "num_hackers = attacks.source_ip.nunique()\n",
    "log.source_ip.value_counts().index[:num_hackers]\\\n",
    "    .isin(attacks.source_ip).sum() / num_hackers"
   ]
  },
  {
   "cell_type": "markdown",
   "metadata": {},
   "source": [
    "What does the average hourly attempts per IP address look like over the time period?"
   ]
  },
  {
   "cell_type": "code",
   "execution_count": 55,
   "metadata": {},
   "outputs": [
    {
     "data": {
      "text/plain": [
       "Text(0, 0.5, 'average hourly attempts per IP address')"
      ]
     },
     "execution_count": 55,
     "metadata": {},
     "output_type": "execute_result"
    },
    {
     "data": {
      "image/png": "[encoded data removed]",
      "text/plain": [
       "<Figure size 1080x360 with 1 Axes>"
      ]
     },
     "metadata": {
      "needs_background": "light"
     },
     "output_type": "display_data"
    }
   ],
   "source": [
    "# attempts per ip address\n",
    "log.assign(attempts=1).groupby('source_ip').attempts\\\n",
    "    .resample('1H').sum().unstack().mean()\\\n",
    "    .plot(figsize=(15, 5), title='average hourly attempts per IP address')\\\n",
    "    .set_ylabel('average hourly attempts per IP address')"
   ]
  },
  {
   "cell_type": "markdown",
   "metadata": {},
   "source": [
    "What percentage of the time was a hacker's attempt successful?"
   ]
  },
  {
   "cell_type": "code",
   "execution_count": 56,
   "metadata": {},
   "outputs": [
    {
     "data": {
      "text/plain": [
       "False    0.846083\n",
       "True     0.153917\n",
       "Name: success, dtype: float64"
      ]
     },
     "execution_count": 56,
     "metadata": {},
     "output_type": "execute_result"
    }
   ],
   "source": [
    "log[log.source_ip.isin(attacks.source_ip)]\\\n",
    "    .success.value_counts(normalize=True)"
   ]
  },
  {
   "cell_type": "markdown",
   "metadata": {},
   "source": [
    "What percentage of the time are valid users' attempts successful?"
   ]
  },
  {
   "cell_type": "code",
   "execution_count": 57,
   "metadata": {},
   "outputs": [
    {
     "data": {
      "text/plain": [
       "True     0.870482\n",
       "False    0.129518\n",
       "Name: success, dtype: float64"
      ]
     },
     "execution_count": 57,
     "metadata": {},
     "output_type": "execute_result"
    }
   ],
   "source": [
    "log[~log.source_ip.isin(attacks.source_ip)]\\\n",
    "    .success.value_counts(normalize=True)"
   ]
  },
  {
   "cell_type": "markdown",
   "metadata": {},
   "source": [
    "Why is each group failing?"
   ]
  },
  {
   "cell_type": "code",
   "execution_count": 58,
   "metadata": {},
   "outputs": [
    {
     "data": {
      "text/html": [
       "<div>\n",
       "<style scoped>\n",
       "    .dataframe tbody tr th:only-of-type {\n",
       "        vertical-align: middle;\n",
       "    }\n",
       "\n",
       "    .dataframe tbody tr th {\n",
       "        vertical-align: top;\n",
       "    }\n",
       "\n",
       "    .dataframe thead th {\n",
       "        text-align: right;\n",
       "    }\n",
       "</style>\n",
       "<table border=\"1\" class=\"dataframe\">\n",
       "  <thead>\n",
       "    <tr style=\"text-align: right;\">\n",
       "      <th>failure_reason</th>\n",
       "      <th>ErrorWrongPassword</th>\n",
       "      <th>ErrorWrongUsername</th>\n",
       "    </tr>\n",
       "    <tr>\n",
       "      <th>is_hacker</th>\n",
       "      <th></th>\n",
       "      <th></th>\n",
       "    </tr>\n",
       "  </thead>\n",
       "  <tbody>\n",
       "    <tr>\n",
       "      <th>False</th>\n",
       "      <td>294</td>\n",
       "      <td>7</td>\n",
       "    </tr>\n",
       "    <tr>\n",
       "      <th>True</th>\n",
       "      <td>5134</td>\n",
       "      <td>10406</td>\n",
       "    </tr>\n",
       "  </tbody>\n",
       "</table>\n",
       "</div>"
      ],
      "text/plain": [
       "failure_reason  ErrorWrongPassword  ErrorWrongUsername\n",
       "is_hacker                                             \n",
       "False                          294                   7\n",
       "True                          5134               10406"
      ]
     },
     "execution_count": 58,
     "metadata": {},
     "output_type": "execute_result"
    }
   ],
   "source": [
    "pd.crosstab(\n",
    "    index=pd.Series(\n",
    "        log.source_ip.isin(attacks.source_ip), name='is_hacker'\n",
    "    ), columns=log.failure_reason\n",
    ")"
   ]
  },
  {
   "cell_type": "markdown",
   "metadata": {},
   "source": [
    "How many times does a user try to log in per hour? Valid users don't make many mistakes with their credentials, so if the hackers make many attempts with many users, we flag it."
   ]
  },
  {
   "cell_type": "code",
   "execution_count": 59,
   "metadata": {},
   "outputs": [
    {
     "data": {
      "text/plain": [
       "Text(0, 0.5, 'average hourly attempts per user')"
      ]
     },
     "execution_count": 59,
     "metadata": {},
     "output_type": "execute_result"
    },
    {
     "data": {
      "image/png": "[encoded data removed]",
      "text/plain": [
       "<Figure size 1080x360 with 1 Axes>"
      ]
     },
     "metadata": {
      "needs_background": "light"
     },
     "output_type": "display_data"
    }
   ],
   "source": [
    "# attempts per user\n",
    "log.assign(attempts=1).groupby('username').attempts\\\n",
    "    .resample('1H').sum().unstack().mean()\\\n",
    "    .plot(figsize=(15, 5), title='average hourly attempts per user')\\\n",
    "    .set_ylabel('average hourly attempts per user')"
   ]
  },
  {
   "cell_type": "markdown",
   "metadata": {},
   "source": [
    "Calculate metrics per IP address"
   ]
  },
  {
   "cell_type": "code",
   "execution_count": 60,
   "metadata": {},
   "outputs": [
    {
     "data": {
      "text/html": [
       "<div>\n",
       "<style scoped>\n",
       "    .dataframe tbody tr th:only-of-type {\n",
       "        vertical-align: middle;\n",
       "    }\n",
       "\n",
       "    .dataframe tbody tr th {\n",
       "        vertical-align: top;\n",
       "    }\n",
       "\n",
       "    .dataframe thead th {\n",
       "        text-align: right;\n",
       "    }\n",
       "</style>\n",
       "<table border=\"1\" class=\"dataframe\">\n",
       "  <thead>\n",
       "    <tr style=\"text-align: right;\">\n",
       "      <th>failure_reason</th>\n",
       "      <th>attempts</th>\n",
       "      <th>ErrorWrongPassword</th>\n",
       "      <th>ErrorWrongUsername</th>\n",
       "      <th>success</th>\n",
       "      <th>success_rate</th>\n",
       "      <th>error_rate</th>\n",
       "    </tr>\n",
       "    <tr>\n",
       "      <th>source_ip</th>\n",
       "      <th></th>\n",
       "      <th></th>\n",
       "      <th></th>\n",
       "      <th></th>\n",
       "      <th></th>\n",
       "      <th></th>\n",
       "    </tr>\n",
       "  </thead>\n",
       "  <tbody>\n",
       "    <tr>\n",
       "      <th>70.167.186.223</th>\n",
       "      <td>437</td>\n",
       "      <td>119</td>\n",
       "      <td>259</td>\n",
       "      <td>59</td>\n",
       "      <td>0.135011</td>\n",
       "      <td>0.864989</td>\n",
       "    </tr>\n",
       "    <tr>\n",
       "      <th>19.252.122.65</th>\n",
       "      <td>433</td>\n",
       "      <td>134</td>\n",
       "      <td>228</td>\n",
       "      <td>71</td>\n",
       "      <td>0.163972</td>\n",
       "      <td>0.836028</td>\n",
       "    </tr>\n",
       "    <tr>\n",
       "      <th>194.195.154.137</th>\n",
       "      <td>432</td>\n",
       "      <td>111</td>\n",
       "      <td>256</td>\n",
       "      <td>65</td>\n",
       "      <td>0.150463</td>\n",
       "      <td>0.849537</td>\n",
       "    </tr>\n",
       "    <tr>\n",
       "      <th>122.163.243.73</th>\n",
       "      <td>431</td>\n",
       "      <td>119</td>\n",
       "      <td>247</td>\n",
       "      <td>65</td>\n",
       "      <td>0.150812</td>\n",
       "      <td>0.849188</td>\n",
       "    </tr>\n",
       "    <tr>\n",
       "      <th>136.73.0.233</th>\n",
       "      <td>430</td>\n",
       "      <td>119</td>\n",
       "      <td>253</td>\n",
       "      <td>58</td>\n",
       "      <td>0.134884</td>\n",
       "      <td>0.865116</td>\n",
       "    </tr>\n",
       "  </tbody>\n",
       "</table>\n",
       "</div>"
      ],
      "text/plain": [
       "failure_reason   attempts  ErrorWrongPassword  ErrorWrongUsername  success  \\\n",
       "source_ip                                                                    \n",
       "70.167.186.223        437                 119                 259       59   \n",
       "19.252.122.65         433                 134                 228       71   \n",
       "194.195.154.137       432                 111                 256       65   \n",
       "122.163.243.73        431                 119                 247       65   \n",
       "136.73.0.233          430                 119                 253       58   \n",
       "\n",
       "failure_reason   success_rate  error_rate  \n",
       "source_ip                                  \n",
       "70.167.186.223       0.135011    0.864989  \n",
       "19.252.122.65        0.163972    0.836028  \n",
       "194.195.154.137      0.150463    0.849537  \n",
       "122.163.243.73       0.150812    0.849188  \n",
       "136.73.0.233         0.134884    0.865116  "
      ]
     },
     "execution_count": 60,
     "metadata": {},
     "output_type": "execute_result"
    }
   ],
   "source": [
    "pivot = log.pivot_table(\n",
    "    values='success', index=log.source_ip, \n",
    "    columns=log.failure_reason.fillna('success'), \n",
    "    aggfunc='count', fill_value=0\n",
    ")\n",
    "pivot.insert(0, 'attempts', pivot.sum(axis=1))\n",
    "pivot = pivot.sort_values('attempts', ascending=False).assign(\n",
    "    success_rate=lambda x: x.success / x.attempts,\n",
    "    error_rate=lambda x: 1 - x.success_rate\n",
    ")\n",
    "pivot.head()"
   ]
  },
  {
   "cell_type": "markdown",
   "metadata": {},
   "source": [
    "Most successful IP addresses:"
   ]
  },
  {
   "cell_type": "code",
   "execution_count": 61,
   "metadata": {},
   "outputs": [
    {
     "data": {
      "text/html": [
       "<div>\n",
       "<style scoped>\n",
       "    .dataframe tbody tr th:only-of-type {\n",
       "        vertical-align: middle;\n",
       "    }\n",
       "\n",
       "    .dataframe tbody tr th {\n",
       "        vertical-align: top;\n",
       "    }\n",
       "\n",
       "    .dataframe thead th {\n",
       "        text-align: right;\n",
       "    }\n",
       "</style>\n",
       "<table border=\"1\" class=\"dataframe\">\n",
       "  <thead>\n",
       "    <tr style=\"text-align: right;\">\n",
       "      <th>failure_reason</th>\n",
       "      <th>attempts</th>\n",
       "      <th>ErrorWrongPassword</th>\n",
       "      <th>ErrorWrongUsername</th>\n",
       "      <th>success</th>\n",
       "      <th>success_rate</th>\n",
       "      <th>error_rate</th>\n",
       "    </tr>\n",
       "    <tr>\n",
       "      <th>source_ip</th>\n",
       "      <th></th>\n",
       "      <th></th>\n",
       "      <th></th>\n",
       "      <th></th>\n",
       "      <th></th>\n",
       "      <th></th>\n",
       "    </tr>\n",
       "  </thead>\n",
       "  <tbody>\n",
       "    <tr>\n",
       "      <th>16.236.44.240</th>\n",
       "      <td>1</td>\n",
       "      <td>0</td>\n",
       "      <td>0</td>\n",
       "      <td>1</td>\n",
       "      <td>1.0</td>\n",
       "      <td>0.0</td>\n",
       "    </tr>\n",
       "    <tr>\n",
       "      <th>223.34.195.68</th>\n",
       "      <td>3</td>\n",
       "      <td>0</td>\n",
       "      <td>0</td>\n",
       "      <td>3</td>\n",
       "      <td>1.0</td>\n",
       "      <td>0.0</td>\n",
       "    </tr>\n",
       "    <tr>\n",
       "      <th>81.174.175.226</th>\n",
       "      <td>3</td>\n",
       "      <td>0</td>\n",
       "      <td>0</td>\n",
       "      <td>3</td>\n",
       "      <td>1.0</td>\n",
       "      <td>0.0</td>\n",
       "    </tr>\n",
       "    <tr>\n",
       "      <th>134.88.46.31</th>\n",
       "      <td>3</td>\n",
       "      <td>0</td>\n",
       "      <td>0</td>\n",
       "      <td>3</td>\n",
       "      <td>1.0</td>\n",
       "      <td>0.0</td>\n",
       "    </tr>\n",
       "    <tr>\n",
       "      <th>77.237.238.180</th>\n",
       "      <td>3</td>\n",
       "      <td>0</td>\n",
       "      <td>0</td>\n",
       "      <td>3</td>\n",
       "      <td>1.0</td>\n",
       "      <td>0.0</td>\n",
       "    </tr>\n",
       "  </tbody>\n",
       "</table>\n",
       "</div>"
      ],
      "text/plain": [
       "failure_reason  attempts  ErrorWrongPassword  ErrorWrongUsername  success  \\\n",
       "source_ip                                                                   \n",
       "16.236.44.240          1                   0                   0        1   \n",
       "223.34.195.68          3                   0                   0        3   \n",
       "81.174.175.226         3                   0                   0        3   \n",
       "134.88.46.31           3                   0                   0        3   \n",
       "77.237.238.180         3                   0                   0        3   \n",
       "\n",
       "failure_reason  success_rate  error_rate  \n",
       "source_ip                                 \n",
       "16.236.44.240            1.0         0.0  \n",
       "223.34.195.68            1.0         0.0  \n",
       "81.174.175.226           1.0         0.0  \n",
       "134.88.46.31             1.0         0.0  \n",
       "77.237.238.180           1.0         0.0  "
      ]
     },
     "execution_count": 61,
     "metadata": {},
     "output_type": "execute_result"
    }
   ],
   "source": [
    "pivot.sort_values('success_rate', ascending=False).head()"
   ]
  },
  {
   "cell_type": "markdown",
   "metadata": {},
   "source": [
    "What looks out of place with the five-number summary?"
   ]
  },
  {
   "cell_type": "code",
   "execution_count": 62,
   "metadata": {},
   "outputs": [
    {
     "data": {
      "text/html": [
       "<div>\n",
       "<style scoped>\n",
       "    .dataframe tbody tr th:only-of-type {\n",
       "        vertical-align: middle;\n",
       "    }\n",
       "\n",
       "    .dataframe tbody tr th {\n",
       "        vertical-align: top;\n",
       "    }\n",
       "\n",
       "    .dataframe thead th {\n",
       "        text-align: right;\n",
       "    }\n",
       "</style>\n",
       "<table border=\"1\" class=\"dataframe\">\n",
       "  <thead>\n",
       "    <tr style=\"text-align: right;\">\n",
       "      <th>failure_reason</th>\n",
       "      <th>attempts</th>\n",
       "      <th>ErrorWrongPassword</th>\n",
       "      <th>ErrorWrongUsername</th>\n",
       "      <th>success</th>\n",
       "      <th>success_rate</th>\n",
       "      <th>error_rate</th>\n",
       "    </tr>\n",
       "  </thead>\n",
       "  <tbody>\n",
       "    <tr>\n",
       "      <th>count</th>\n",
       "      <td>474.000000</td>\n",
       "      <td>474.000000</td>\n",
       "      <td>474.000000</td>\n",
       "      <td>474.000000</td>\n",
       "      <td>474.000000</td>\n",
       "      <td>474.000000</td>\n",
       "    </tr>\n",
       "    <tr>\n",
       "      <th>mean</th>\n",
       "      <td>43.651899</td>\n",
       "      <td>11.451477</td>\n",
       "      <td>21.968354</td>\n",
       "      <td>10.232068</td>\n",
       "      <td>0.775437</td>\n",
       "      <td>0.224563</td>\n",
       "    </tr>\n",
       "    <tr>\n",
       "      <th>std</th>\n",
       "      <td>102.298774</td>\n",
       "      <td>28.993306</td>\n",
       "      <td>59.104031</td>\n",
       "      <td>14.984874</td>\n",
       "      <td>0.296231</td>\n",
       "      <td>0.296231</td>\n",
       "    </tr>\n",
       "    <tr>\n",
       "      <th>min</th>\n",
       "      <td>1.000000</td>\n",
       "      <td>0.000000</td>\n",
       "      <td>0.000000</td>\n",
       "      <td>1.000000</td>\n",
       "      <td>0.037037</td>\n",
       "      <td>0.000000</td>\n",
       "    </tr>\n",
       "    <tr>\n",
       "      <th>25%</th>\n",
       "      <td>3.000000</td>\n",
       "      <td>0.000000</td>\n",
       "      <td>0.000000</td>\n",
       "      <td>3.000000</td>\n",
       "      <td>0.714286</td>\n",
       "      <td>0.000000</td>\n",
       "    </tr>\n",
       "    <tr>\n",
       "      <th>50%</th>\n",
       "      <td>6.000000</td>\n",
       "      <td>1.000000</td>\n",
       "      <td>0.000000</td>\n",
       "      <td>5.000000</td>\n",
       "      <td>0.875000</td>\n",
       "      <td>0.125000</td>\n",
       "    </tr>\n",
       "    <tr>\n",
       "      <th>75%</th>\n",
       "      <td>11.000000</td>\n",
       "      <td>2.000000</td>\n",
       "      <td>0.000000</td>\n",
       "      <td>9.000000</td>\n",
       "      <td>1.000000</td>\n",
       "      <td>0.285714</td>\n",
       "    </tr>\n",
       "    <tr>\n",
       "      <th>max</th>\n",
       "      <td>437.000000</td>\n",
       "      <td>140.000000</td>\n",
       "      <td>259.000000</td>\n",
       "      <td>77.000000</td>\n",
       "      <td>1.000000</td>\n",
       "      <td>0.962963</td>\n",
       "    </tr>\n",
       "  </tbody>\n",
       "</table>\n",
       "</div>"
      ],
      "text/plain": [
       "failure_reason    attempts  ErrorWrongPassword  ErrorWrongUsername  \\\n",
       "count           474.000000          474.000000          474.000000   \n",
       "mean             43.651899           11.451477           21.968354   \n",
       "std             102.298774           28.993306           59.104031   \n",
       "min               1.000000            0.000000            0.000000   \n",
       "25%               3.000000            0.000000            0.000000   \n",
       "50%               6.000000            1.000000            0.000000   \n",
       "75%              11.000000            2.000000            0.000000   \n",
       "max             437.000000          140.000000          259.000000   \n",
       "\n",
       "failure_reason     success  success_rate  error_rate  \n",
       "count           474.000000    474.000000  474.000000  \n",
       "mean             10.232068      0.775437    0.224563  \n",
       "std              14.984874      0.296231    0.296231  \n",
       "min               1.000000      0.037037    0.000000  \n",
       "25%               3.000000      0.714286    0.000000  \n",
       "50%               5.000000      0.875000    0.125000  \n",
       "75%               9.000000      1.000000    0.285714  \n",
       "max              77.000000      1.000000    0.962963  "
      ]
     },
     "execution_count": 62,
     "metadata": {},
     "output_type": "execute_result"
    }
   ],
   "source": [
    "pivot.describe()"
   ]
  },
  {
   "cell_type": "markdown",
   "metadata": {},
   "source": [
    "Are there IP addresses being used with many distinct usernames?"
   ]
  },
  {
   "cell_type": "code",
   "execution_count": 63,
   "metadata": {},
   "outputs": [
    {
     "data": {
      "text/plain": [
       "count     64.000000\n",
       "mean       7.406250\n",
       "std       48.717755\n",
       "min        1.000000\n",
       "25%        1.000000\n",
       "50%        1.000000\n",
       "75%        1.000000\n",
       "max      391.000000\n",
       "Name: username, dtype: float64"
      ]
     },
     "execution_count": 63,
     "metadata": {},
     "output_type": "execute_result"
    }
   ],
   "source": [
    "log.groupby('source_ip').agg(dict(username='nunique'))\\\n",
    "    .username.value_counts().describe()"
   ]
  },
  {
   "cell_type": "markdown",
   "metadata": {},
   "source": [
    "### Visual Anomaly Detection\n",
    "We had a bimodal distribution of attempts per IP address &mdash; will we have two clusters when we plot successes vs. attempts by IP address?"
   ]
  },
  {
   "cell_type": "code",
   "execution_count": 64,
   "metadata": {},
   "outputs": [
    {
     "data": {
      "text/plain": [
       "<AxesSubplot:title={'center':'successes vs. attempts by IP address'}, xlabel='attempts', ylabel='success'>"
      ]
     },
     "execution_count": 64,
     "metadata": {},
     "output_type": "execute_result"
    },
    {
     "data": {
      "image/png": "[encoded data removed]",
      "text/plain": [
       "<Figure size 432x288 with 1 Axes>"
      ]
     },
     "metadata": {
      "needs_background": "light"
     },
     "output_type": "display_data"
    }
   ],
   "source": [
    "pivot.plot(\n",
    "    kind='scatter', x='attempts', y='success', \n",
    "    title='successes vs. attempts by IP address', alpha=0.25\n",
    ")"
   ]
  },
  {
   "cell_type": "code",
   "execution_count": 65,
   "metadata": {},
   "outputs": [
    {
     "data": {
      "text/plain": [
       "<matplotlib.legend.Legend at 0x7fecd818b9d0>"
      ]
     },
     "execution_count": 65,
     "metadata": {},
     "output_type": "execute_result"
    },
    {
     "data": {
      "image/png": "[encoded data removed]",
      "text/plain": [
       "<Figure size 432x288 with 1 Axes>"
      ]
     },
     "metadata": {
      "needs_background": "light"
     },
     "output_type": "display_data"
    }
   ],
   "source": [
    "ax = pivot.plot(\n",
    "    kind='scatter', x='attempts', y='success', \n",
    "    title='successes vs. attempts by IP address', alpha=0.25\n",
    ")\n",
    "plt.axvline(125, label='sample boundary', color='red', linestyle='--')\n",
    "plt.legend(loc='lower right')"
   ]
  },
  {
   "cell_type": "code",
   "execution_count": 66,
   "metadata": {},
   "outputs": [
    {
     "data": {
      "text/plain": [
       "Text(0.5, 0.98, 'successes vs. attempts by IP address')"
      ]
     },
     "execution_count": 66,
     "metadata": {},
     "output_type": "execute_result"
    },
    {
     "data": {
      "image/png": "[encoded data removed]",
      "text/plain": [
       "<Figure size 1080x360 with 2 Axes>"
      ]
     },
     "metadata": {
      "needs_background": "light"
     },
     "output_type": "display_data"
    }
   ],
   "source": [
    "fig, axes = plt.subplots(1, 2, figsize=(15, 5))\n",
    "for ax in axes:\n",
    "    sns.scatterplot(\n",
    "        y=pivot.success, x=pivot.attempts, \n",
    "        hue=pivot.assign(\n",
    "            is_hacker=lambda x: x.index.isin(attacks.source_ip)\n",
    "        ).is_hacker,\n",
    "        ax=ax, alpha=0.5\n",
    "    )\n",
    "    for spine in ['top', 'right']:\n",
    "        ax.spines[spine].set_visible(False)\n",
    "axes[1].set_xscale('log')\n",
    "plt.suptitle('successes vs. attempts by IP address')"
   ]
  },
  {
   "cell_type": "markdown",
   "metadata": {},
   "source": [
    "Can a box plot show us outliers corresponding to the top right cluster in the previous scatter plots?"
   ]
  },
  {
   "cell_type": "code",
   "execution_count": 67,
   "metadata": {},
   "outputs": [
    {
     "data": {
      "text/plain": [
       "attempts       AxesSubplot(0.125,0.125;0.352273x0.755)\n",
       "success     AxesSubplot(0.547727,0.125;0.352273x0.755)\n",
       "dtype: object"
      ]
     },
     "execution_count": 67,
     "metadata": {},
     "output_type": "execute_result"
    },
    {
     "data": {
      "image/png": "[encoded data removed]",
      "text/plain": [
       "<Figure size 720x216 with 2 Axes>"
      ]
     },
     "metadata": {
      "needs_background": "light"
     },
     "output_type": "display_data"
    }
   ],
   "source": [
    "pivot[['attempts', 'success']].plot(\n",
    "    kind='box', subplots=True, figsize=(10, 3),\n",
    "    title='stats per IP address'\n",
    ")"
   ]
  },
  {
   "cell_type": "markdown",
   "metadata": {},
   "source": [
    "## Rule-based Anomaly Detection\n",
    "We want to find the IP addresses with excessive amounts of attempts with low success rates and those attempting to log in with more unique usernames than we would deem normal (anomalies)."
   ]
  },
  {
   "cell_type": "code",
   "execution_count": 68,
   "metadata": {},
   "outputs": [],
   "source": [
    "hourly_ip_logs = log.assign(\n",
    "    failures=lambda x: np.invert(x.success)\n",
    ").groupby('source_ip').resample('1H').agg(\n",
    "    {'username': 'nunique', 'success': 'sum', 'failures': 'sum'}\n",
    ").assign(\n",
    "    attempts=lambda x: x.success + x.failures,\n",
    "    success_rate=lambda x: x.success / x.attempts,\n",
    "    failure_rate=lambda x: 1 - x.success_rate\n",
    ").dropna().reset_index()"
   ]
  },
  {
   "cell_type": "markdown",
   "metadata": {},
   "source": [
    "The data we will use for rule-based anomaly detection looks like this:"
   ]
  },
  {
   "cell_type": "code",
   "execution_count": 69,
   "metadata": {},
   "outputs": [
    {
     "data": {
      "text/html": [
       "<div>\n",
       "<style scoped>\n",
       "    .dataframe tbody tr th:only-of-type {\n",
       "        vertical-align: middle;\n",
       "    }\n",
       "\n",
       "    .dataframe tbody tr th {\n",
       "        vertical-align: top;\n",
       "    }\n",
       "\n",
       "    .dataframe thead th {\n",
       "        text-align: right;\n",
       "    }\n",
       "</style>\n",
       "<table border=\"1\" class=\"dataframe\">\n",
       "  <thead>\n",
       "    <tr style=\"text-align: right;\">\n",
       "      <th></th>\n",
       "      <th>source_ip</th>\n",
       "      <th>datetime</th>\n",
       "      <th>username</th>\n",
       "      <th>success</th>\n",
       "      <th>failures</th>\n",
       "      <th>attempts</th>\n",
       "      <th>success_rate</th>\n",
       "      <th>failure_rate</th>\n",
       "    </tr>\n",
       "  </thead>\n",
       "  <tbody>\n",
       "    <tr>\n",
       "      <th>0</th>\n",
       "      <td>0.122.45.19</td>\n",
       "      <td>2022-01-18 02:00:00</td>\n",
       "      <td>1</td>\n",
       "      <td>1</td>\n",
       "      <td>0</td>\n",
       "      <td>1</td>\n",
       "      <td>1.000000</td>\n",
       "      <td>0.000000</td>\n",
       "    </tr>\n",
       "    <tr>\n",
       "      <th>1</th>\n",
       "      <td>0.122.45.19</td>\n",
       "      <td>2022-01-20 10:00:00</td>\n",
       "      <td>1</td>\n",
       "      <td>1</td>\n",
       "      <td>0</td>\n",
       "      <td>1</td>\n",
       "      <td>1.000000</td>\n",
       "      <td>0.000000</td>\n",
       "    </tr>\n",
       "    <tr>\n",
       "      <th>2</th>\n",
       "      <td>0.182.78.111</td>\n",
       "      <td>2022-01-08 12:00:00</td>\n",
       "      <td>1</td>\n",
       "      <td>3</td>\n",
       "      <td>0</td>\n",
       "      <td>3</td>\n",
       "      <td>1.000000</td>\n",
       "      <td>0.000000</td>\n",
       "    </tr>\n",
       "    <tr>\n",
       "      <th>3</th>\n",
       "      <td>0.182.78.111</td>\n",
       "      <td>2022-01-08 21:00:00</td>\n",
       "      <td>1</td>\n",
       "      <td>2</td>\n",
       "      <td>0</td>\n",
       "      <td>2</td>\n",
       "      <td>1.000000</td>\n",
       "      <td>0.000000</td>\n",
       "    </tr>\n",
       "    <tr>\n",
       "      <th>4</th>\n",
       "      <td>0.182.78.111</td>\n",
       "      <td>2022-01-13 05:00:00</td>\n",
       "      <td>1</td>\n",
       "      <td>2</td>\n",
       "      <td>1</td>\n",
       "      <td>3</td>\n",
       "      <td>0.666667</td>\n",
       "      <td>0.333333</td>\n",
       "    </tr>\n",
       "  </tbody>\n",
       "</table>\n",
       "</div>"
      ],
      "text/plain": [
       "      source_ip            datetime  username  success  failures  attempts  \\\n",
       "0   0.122.45.19 2022-01-18 02:00:00         1        1         0         1   \n",
       "1   0.122.45.19 2022-01-20 10:00:00         1        1         0         1   \n",
       "2  0.182.78.111 2022-01-08 12:00:00         1        3         0         3   \n",
       "3  0.182.78.111 2022-01-08 21:00:00         1        2         0         2   \n",
       "4  0.182.78.111 2022-01-13 05:00:00         1        2         1         3   \n",
       "\n",
       "   success_rate  failure_rate  \n",
       "0      1.000000      0.000000  \n",
       "1      1.000000      0.000000  \n",
       "2      1.000000      0.000000  \n",
       "3      1.000000      0.000000  \n",
       "4      0.666667      0.333333  "
      ]
     },
     "execution_count": 69,
     "metadata": {},
     "output_type": "execute_result"
    }
   ],
   "source": [
    "hourly_ip_logs.head()"
   ]
  },
  {
   "cell_type": "markdown",
   "metadata": {},
   "source": [
    "### Percent Difference from Threshold\n",
    "A simple rule would be to check if values are a certain percentage or more different from some threshold. \n",
    "\n",
    "#### Bootstrapping\n",
    "In our case, the threshold will be an hourly baseline of login activity. We could use bootstrapping to calculate the baseline with random sample of size 10 for each hour:"
   ]
  },
  {
   "cell_type": "code",
   "execution_count": 70,
   "metadata": {},
   "outputs": [],
   "source": [
    "def get_baselines(hourly_ip_logs, func, *args, **kwargs):\n",
    "    \"\"\"\n",
    "    Calculate hourly bootstrapped statistic per column.\n",
    "    \n",
    "    Parameters:\n",
    "        - hourly_ip_logs: Data to sample from.\n",
    "        - func: Statistic to calculate.\n",
    "        - args: Additional positional arguments for `func`\n",
    "        - kwargs: Additional keyword arguments for `func`\n",
    "    \n",
    "    Returns:\n",
    "        `pandas.DataFrame` of hourly bootstrapped statistics\n",
    "    \"\"\"\n",
    "    if isinstance(func, str):\n",
    "        func = getattr(pd.DataFrame, func)\n",
    "\n",
    "    return hourly_ip_logs\\\n",
    "        .assign(hour=lambda x: x.datetime.dt.hour).groupby('hour')\\\n",
    "        .apply(\n",
    "            lambda x: x.sample(10, random_state=0, replace=True)\\\n",
    "                .pipe(func, *args, **kwargs, numeric_only=True)\n",
    "        )"
   ]
  },
  {
   "cell_type": "code",
   "execution_count": 71,
   "metadata": {},
   "outputs": [
    {
     "data": {
      "text/plain": [
       "(24, 7)"
      ]
     },
     "execution_count": 71,
     "metadata": {},
     "output_type": "execute_result"
    }
   ],
   "source": [
    "averages = get_baselines(hourly_ip_logs, 'mean')\n",
    "averages.shape"
   ]
  },
  {
   "cell_type": "markdown",
   "metadata": {},
   "source": [
    "This technique however doesn't guarantee we won't mix any of the hacker activity into our baseline calculations:"
   ]
  },
  {
   "cell_type": "code",
   "execution_count": 72,
   "metadata": {},
   "outputs": [
    {
     "data": {
      "text/html": [
       "<div>\n",
       "<style scoped>\n",
       "    .dataframe tbody tr th:only-of-type {\n",
       "        vertical-align: middle;\n",
       "    }\n",
       "\n",
       "    .dataframe tbody tr th {\n",
       "        vertical-align: top;\n",
       "    }\n",
       "\n",
       "    .dataframe thead th {\n",
       "        text-align: right;\n",
       "    }\n",
       "</style>\n",
       "<table border=\"1\" class=\"dataframe\">\n",
       "  <thead>\n",
       "    <tr style=\"text-align: right;\">\n",
       "      <th></th>\n",
       "      <th>username</th>\n",
       "      <th>success</th>\n",
       "      <th>failures</th>\n",
       "      <th>attempts</th>\n",
       "      <th>success_rate</th>\n",
       "      <th>failure_rate</th>\n",
       "      <th>hour</th>\n",
       "    </tr>\n",
       "    <tr>\n",
       "      <th>hour</th>\n",
       "      <th></th>\n",
       "      <th></th>\n",
       "      <th></th>\n",
       "      <th></th>\n",
       "      <th></th>\n",
       "      <th></th>\n",
       "      <th></th>\n",
       "    </tr>\n",
       "  </thead>\n",
       "  <tbody>\n",
       "    <tr>\n",
       "      <th>4</th>\n",
       "      <td>47.7</td>\n",
       "      <td>13.7</td>\n",
       "      <td>70.5</td>\n",
       "      <td>84.2</td>\n",
       "      <td>0.744066</td>\n",
       "      <td>0.255934</td>\n",
       "      <td>4.0</td>\n",
       "    </tr>\n",
       "    <tr>\n",
       "      <th>16</th>\n",
       "      <td>16.0</td>\n",
       "      <td>4.3</td>\n",
       "      <td>21.9</td>\n",
       "      <td>26.2</td>\n",
       "      <td>0.750219</td>\n",
       "      <td>0.249781</td>\n",
       "      <td>16.0</td>\n",
       "    </tr>\n",
       "    <tr>\n",
       "      <th>1</th>\n",
       "      <td>44.6</td>\n",
       "      <td>12.6</td>\n",
       "      <td>61.8</td>\n",
       "      <td>74.4</td>\n",
       "      <td>0.779834</td>\n",
       "      <td>0.220166</td>\n",
       "      <td>1.0</td>\n",
       "    </tr>\n",
       "    <tr>\n",
       "      <th>17</th>\n",
       "      <td>23.4</td>\n",
       "      <td>7.9</td>\n",
       "      <td>33.0</td>\n",
       "      <td>40.9</td>\n",
       "      <td>0.832131</td>\n",
       "      <td>0.167869</td>\n",
       "      <td>17.0</td>\n",
       "    </tr>\n",
       "    <tr>\n",
       "      <th>18</th>\n",
       "      <td>1.0</td>\n",
       "      <td>1.8</td>\n",
       "      <td>0.5</td>\n",
       "      <td>2.3</td>\n",
       "      <td>0.833333</td>\n",
       "      <td>0.166667</td>\n",
       "      <td>18.0</td>\n",
       "    </tr>\n",
       "    <tr>\n",
       "      <th>14</th>\n",
       "      <td>1.0</td>\n",
       "      <td>2.1</td>\n",
       "      <td>0.6</td>\n",
       "      <td>2.7</td>\n",
       "      <td>0.850000</td>\n",
       "      <td>0.150000</td>\n",
       "      <td>14.0</td>\n",
       "    </tr>\n",
       "  </tbody>\n",
       "</table>\n",
       "</div>"
      ],
      "text/plain": [
       "      username  success  failures  attempts  success_rate  failure_rate  hour\n",
       "hour                                                                         \n",
       "4         47.7     13.7      70.5      84.2      0.744066      0.255934   4.0\n",
       "16        16.0      4.3      21.9      26.2      0.750219      0.249781  16.0\n",
       "1         44.6     12.6      61.8      74.4      0.779834      0.220166   1.0\n",
       "17        23.4      7.9      33.0      40.9      0.832131      0.167869  17.0\n",
       "18         1.0      1.8       0.5       2.3      0.833333      0.166667  18.0\n",
       "14         1.0      2.1       0.6       2.7      0.850000      0.150000  14.0"
      ]
     },
     "execution_count": 72,
     "metadata": {},
     "output_type": "execute_result"
    }
   ],
   "source": [
    "averages.nlargest(6, 'failure_rate')"
   ]
  },
  {
   "cell_type": "markdown",
   "metadata": {},
   "source": [
    "#### Trimming\n",
    "We need to remove some of the outliers for better baselines. Let's write a function to trim values beyond a given quantile:"
   ]
  },
  {
   "cell_type": "code",
   "execution_count": 73,
   "metadata": {},
   "outputs": [],
   "source": [
    "def trim(x, quantile):\n",
    "    \"\"\"Remove rows with entries for the username, attempts, or failure_rate columns above a given quantile.\"\"\"\n",
    "    mask = ((x.username <= x.username.quantile(quantile))\n",
    "        & (x.attempts <= x.attempts.quantile(quantile))\n",
    "        & (x.failure_rate <= x.failure_rate.quantile(quantile)))\n",
    "    return x[mask]"
   ]
  },
  {
   "cell_type": "code",
   "execution_count": 74,
   "metadata": {},
   "outputs": [],
   "source": [
    "trimmed_hourly_logs = hourly_ip_logs\\\n",
    "    .assign(hour=lambda x: x.datetime.dt.hour)\\\n",
    "    .groupby('hour').apply(lambda x: trim(x, 0.95))\\\n",
    "    .drop(columns='hour').reset_index().iloc[:,2:]"
   ]
  },
  {
   "cell_type": "code",
   "execution_count": 75,
   "metadata": {},
   "outputs": [
    {
     "data": {
      "text/html": [
       "<div>\n",
       "<style scoped>\n",
       "    .dataframe tbody tr th:only-of-type {\n",
       "        vertical-align: middle;\n",
       "    }\n",
       "\n",
       "    .dataframe tbody tr th {\n",
       "        vertical-align: top;\n",
       "    }\n",
       "\n",
       "    .dataframe thead th {\n",
       "        text-align: right;\n",
       "    }\n",
       "</style>\n",
       "<table border=\"1\" class=\"dataframe\">\n",
       "  <thead>\n",
       "    <tr style=\"text-align: right;\">\n",
       "      <th></th>\n",
       "      <th>username</th>\n",
       "      <th>success</th>\n",
       "      <th>failures</th>\n",
       "      <th>attempts</th>\n",
       "      <th>success_rate</th>\n",
       "      <th>failure_rate</th>\n",
       "      <th>hour</th>\n",
       "    </tr>\n",
       "    <tr>\n",
       "      <th>hour</th>\n",
       "      <th></th>\n",
       "      <th></th>\n",
       "      <th></th>\n",
       "      <th></th>\n",
       "      <th></th>\n",
       "      <th></th>\n",
       "      <th></th>\n",
       "    </tr>\n",
       "  </thead>\n",
       "  <tbody>\n",
       "    <tr>\n",
       "      <th>19</th>\n",
       "      <td>1.0</td>\n",
       "      <td>2.3</td>\n",
       "      <td>0.3</td>\n",
       "      <td>2.6</td>\n",
       "      <td>0.908333</td>\n",
       "      <td>0.091667</td>\n",
       "      <td>19.0</td>\n",
       "    </tr>\n",
       "    <tr>\n",
       "      <th>23</th>\n",
       "      <td>1.0</td>\n",
       "      <td>2.0</td>\n",
       "      <td>0.2</td>\n",
       "      <td>2.2</td>\n",
       "      <td>0.941667</td>\n",
       "      <td>0.058333</td>\n",
       "      <td>23.0</td>\n",
       "    </tr>\n",
       "    <tr>\n",
       "      <th>3</th>\n",
       "      <td>1.0</td>\n",
       "      <td>2.4</td>\n",
       "      <td>0.3</td>\n",
       "      <td>2.7</td>\n",
       "      <td>0.943333</td>\n",
       "      <td>0.056667</td>\n",
       "      <td>3.0</td>\n",
       "    </tr>\n",
       "    <tr>\n",
       "      <th>11</th>\n",
       "      <td>1.0</td>\n",
       "      <td>2.0</td>\n",
       "      <td>0.4</td>\n",
       "      <td>2.4</td>\n",
       "      <td>0.907143</td>\n",
       "      <td>0.092857</td>\n",
       "      <td>11.0</td>\n",
       "    </tr>\n",
       "    <tr>\n",
       "      <th>14</th>\n",
       "      <td>1.0</td>\n",
       "      <td>2.3</td>\n",
       "      <td>0.5</td>\n",
       "      <td>2.8</td>\n",
       "      <td>0.900000</td>\n",
       "      <td>0.100000</td>\n",
       "      <td>14.0</td>\n",
       "    </tr>\n",
       "    <tr>\n",
       "      <th>16</th>\n",
       "      <td>1.2</td>\n",
       "      <td>1.5</td>\n",
       "      <td>0.3</td>\n",
       "      <td>1.8</td>\n",
       "      <td>0.883333</td>\n",
       "      <td>0.116667</td>\n",
       "      <td>16.0</td>\n",
       "    </tr>\n",
       "  </tbody>\n",
       "</table>\n",
       "</div>"
      ],
      "text/plain": [
       "      username  success  failures  attempts  success_rate  failure_rate  hour\n",
       "hour                                                                         \n",
       "19         1.0      2.3       0.3       2.6      0.908333      0.091667  19.0\n",
       "23         1.0      2.0       0.2       2.2      0.941667      0.058333  23.0\n",
       "3          1.0      2.4       0.3       2.7      0.943333      0.056667   3.0\n",
       "11         1.0      2.0       0.4       2.4      0.907143      0.092857  11.0\n",
       "14         1.0      2.3       0.5       2.8      0.900000      0.100000  14.0\n",
       "16         1.2      1.5       0.3       1.8      0.883333      0.116667  16.0"
      ]
     },
     "execution_count": 75,
     "metadata": {},
     "output_type": "execute_result"
    }
   ],
   "source": [
    "averages = get_baselines(trimmed_hourly_logs, 'mean')\n",
    "averages.iloc[[19, 23, 3, 11, 14, 16]]"
   ]
  },
  {
   "cell_type": "code",
   "execution_count": 76,
   "metadata": {},
   "outputs": [],
   "source": [
    "def pct_change_threshold(hourly_ip_logs, baselines, pcts=None):\n",
    "    \"\"\"\n",
    "    Return flagged IP addresses based on thresholds.\n",
    "    \n",
    "    Parameters:\n",
    "        - hourly_ip_logs: Aggregated hourly data per IP address.\n",
    "        - baselines: Hourly baselines per column in data.\n",
    "        - pcts: Dictionary of custom percentages per column for\n",
    "                calculating upper bound thresholds (baseline * pct).\n",
    "                If not provided, pct will be 1.\n",
    "    \n",
    "    Returns:\n",
    "        `pandas.Series` containing the IP addresses flagged.\n",
    "    \"\"\"\n",
    "    pcts = {} if not pcts else pcts\n",
    "\n",
    "    return hourly_ip_logs.assign(\n",
    "        hour=lambda x: x.datetime.dt.hour\n",
    "    ).join(\n",
    "        baselines, on='hour', rsuffix='_baseline'\n",
    "    ).assign(\n",
    "        too_many_users=lambda x: x.username_baseline \\\n",
    "            * pcts.get('username', 1) <= x.username,\n",
    "        too_many_attempts=lambda x: x.attempts_baseline \\\n",
    "            * pcts.get('attempts', 1) <= x.attempts,\n",
    "        high_failure_rate=lambda x: x.failure_rate_baseline \\\n",
    "            * pcts.get('failure_rate', 1) <= x.failure_rate\n",
    "    ).query(\n",
    "        'too_many_users and too_many_attempts and high_failure_rate'\n",
    "    ).source_ip.drop_duplicates()"
   ]
  },
  {
   "cell_type": "markdown",
   "metadata": {},
   "source": [
    "Let's see how many IP addresses get flagged for being 25% greater than the mean baselines for distinct usernames, number of attempts, and failure rate:"
   ]
  },
  {
   "cell_type": "code",
   "execution_count": 77,
   "metadata": {},
   "outputs": [
    {
     "data": {
      "text/plain": [
       "83"
      ]
     },
     "execution_count": 77,
     "metadata": {},
     "output_type": "execute_result"
    }
   ],
   "source": [
    "pct_from_mean_ips = pct_change_threshold(\n",
    "    hourly_ip_logs, averages, \n",
    "    {key: 1.25 for key in ['username', 'attempts', 'failure_rate']}\n",
    ")\n",
    "pct_from_mean_ips.nunique()"
   ]
  },
  {
   "cell_type": "markdown",
   "metadata": {},
   "source": [
    "### Tukey Fence\n",
    "Another strategy is to use the upper bound of the Tukey fence. The multiplier on the IQR is a parameter we will want to tune:"
   ]
  },
  {
   "cell_type": "code",
   "execution_count": 78,
   "metadata": {},
   "outputs": [],
   "source": [
    "def tukey_fence_test(trimmed_data, logs, k, pct=None):\n",
    "    \"\"\"\n",
    "    See which IP addresses get flagged with a Tukey fence with\n",
    "    multiplier k and optional percent differences.\n",
    "    \n",
    "    Parameters: \n",
    "        - trimmed_data: The data to use to calculate the baselines\n",
    "        - logs: The data to test\n",
    "        - k: The multiplier for the IQR\n",
    "        - pct: Dictionary of percentages per column for use with `pct_change_threshold()`\n",
    "        \n",
    "    Returns:\n",
    "        `pandas.Series` of flagged IP addresses\n",
    "    \"\"\"\n",
    "    q3 = get_baselines(trimmed_data, 'quantile', .75).drop(columns=['hour'])\n",
    "    q1 = get_baselines(trimmed_data, 'quantile', .25).drop(columns=['hour'])\n",
    "    iqr = q3 - q1\n",
    "    upper_bound = (q3 + k * iqr).reset_index()\n",
    "    return pct_change_threshold(logs, upper_bound, pct)"
   ]
  },
  {
   "cell_type": "code",
   "execution_count": 79,
   "metadata": {},
   "outputs": [],
   "source": [
    "tukey_fence_ips = tukey_fence_test(\n",
    "    trimmed_hourly_logs, hourly_ip_logs, k=3\n",
    ")"
   ]
  },
  {
   "cell_type": "code",
   "execution_count": 80,
   "metadata": {},
   "outputs": [
    {
     "data": {
      "text/plain": [
       "42"
      ]
     },
     "execution_count": 80,
     "metadata": {},
     "output_type": "execute_result"
    }
   ],
   "source": [
    "tukey_fence_ips.nunique()"
   ]
  },
  {
   "attachments": {},
   "cell_type": "markdown",
   "metadata": {},
   "source": [
    "### Z-score"
   ]
  },
  {
   "cell_type": "code",
   "execution_count": 81,
   "metadata": {},
   "outputs": [
    {
     "data": {
      "text/plain": [
       "67"
      ]
     },
     "execution_count": 81,
     "metadata": {},
     "output_type": "execute_result"
    }
   ],
   "source": [
    "def z_score_test(trimmed_data, logs, cutoff):\n",
    "    \"\"\"\n",
    "    See which IP addresses get flagged with a Z-score greater than\n",
    "    or equal to a cutoff value.\n",
    "    \n",
    "    Parameters: \n",
    "        - trimmed_data: The data to use to calculate the baselines\n",
    "        - logs: The data to test\n",
    "        - cutoff: Flag row when z_score >= cutoff\n",
    "        \n",
    "    Returns:\n",
    "        `pandas.Series` of flagged IP addresses\n",
    "    \"\"\"\n",
    "    std_dev = get_baselines(trimmed_data, 'std').drop(columns=['hour'])\n",
    "    averages = get_baselines(trimmed_data, 'mean').drop(columns=['hour'])\n",
    "\n",
    "    return logs.assign(\n",
    "        hour=lambda x: x.datetime.dt.hour\n",
    "    ).join(\n",
    "        std_dev.join(\n",
    "            averages, \n",
    "            lsuffix='_std', \n",
    "            rsuffix='_mean'\n",
    "        ),\n",
    "        on='hour'\n",
    "    ).assign(\n",
    "        too_many_users=lambda x: \\\n",
    "            (x.username - x.username_mean) / x.username_std >= cutoff,\n",
    "        too_many_attempts=lambda x: \\\n",
    "            (x.attempts - x.attempts_mean) / x.attempts_std >= cutoff,\n",
    "        high_failure_rate=lambda x: \\\n",
    "            (x.failure_rate - x.failure_rate_mean) / x.failure_rate_std >= cutoff\n",
    "    ).query(\n",
    "        'too_many_users and too_many_attempts and high_failure_rate'\n",
    "    ).source_ip.drop_duplicates()\n",
    "\n",
    "z_score_ips = z_score_test(trimmed_hourly_logs, hourly_ip_logs, 3)\n",
    "z_score_ips.nunique()"
   ]
  },
  {
   "attachments": {},
   "cell_type": "markdown",
   "metadata": {},
   "source": [
    "### Evaluating Methods"
   ]
  },
  {
   "cell_type": "code",
   "execution_count": 82,
   "metadata": {},
   "outputs": [],
   "source": [
    "def evaluate(alerted_ips, attack_ips, log_ips):\n",
    "    \"\"\"\n",
    "    Calculate true positives (TP), false positives (FP), \n",
    "    true negatives (TN), and false negatives (FN) for \n",
    "    IP addresses flagged as suspicious.\n",
    "    \n",
    "    Parameters:\n",
    "        - alerted_ips: `pandas.Series` of flagged IP addresses\n",
    "        - attack_ips: `pandas.Series` of attacker IP addresses\n",
    "        - log_ips: `pandas.Series` of all IP addresses seen\n",
    "    \n",
    "    Returns:\n",
    "        Tuple of form (TP, FP, TN, FN)\n",
    "    \"\"\"\n",
    "    tp = alerted_ips.isin(attack_ips).sum()\n",
    "    tn = np.invert(np.isin(log_ips[~log_ips.isin(alerted_ips)].unique(), attack_ips)).sum()\n",
    "    fp = np.invert(alerted_ips.isin(attack_ips)).sum()\n",
    "    fn = np.invert(attack_ips.isin(alerted_ips)).sum()\n",
    "    return tp, fp, tn, fn"
   ]
  },
  {
   "cell_type": "markdown",
   "metadata": {},
   "source": [
    "Using, partials we can reduce our typing later by providing the arguments only once:"
   ]
  },
  {
   "cell_type": "code",
   "execution_count": 83,
   "metadata": {},
   "outputs": [],
   "source": [
    "# make this easier to call\n",
    "from functools import partial\n",
    "scores = partial(evaluate, attack_ips=attacks.source_ip, log_ips=pivot.index)"
   ]
  },
  {
   "cell_type": "markdown",
   "metadata": {},
   "source": [
    "#### Percent Difference from Mean\n",
    "Let's see how well the percent difference from the mean method did. Using our partial, we get all the components of the confusion matrix:"
   ]
  },
  {
   "cell_type": "code",
   "execution_count": 84,
   "metadata": {},
   "outputs": [],
   "source": [
    "tp, fp, tn, fn = scores(pct_from_mean_ips)"
   ]
  },
  {
   "cell_type": "markdown",
   "metadata": {},
   "source": [
    "We can use these to calculate the **false positive rate (FPR)** or the false alarm rate:\n",
    "\n",
    "$$ FPR = \\frac{FP}{FP + TN} $$ \n",
    "\n",
    "and the **false discovery rate (FDR)** or the percentage of our alarms that are wrong:\n",
    "\n",
    "$$ FDR = \\frac{FP}{FP + TP} $$ "
   ]
  },
  {
   "cell_type": "code",
   "execution_count": 85,
   "metadata": {},
   "outputs": [
    {
     "data": {
      "text/plain": [
       "(0.017587939698492462, 0.08433734939759036)"
      ]
     },
     "execution_count": 85,
     "metadata": {},
     "output_type": "execute_result"
    }
   ],
   "source": [
    "# fpr, fdr\n",
    "fp / (fp + tn), fp / (fp + tp)"
   ]
  },
  {
   "cell_type": "markdown",
   "metadata": {},
   "source": [
    "To look into false negatives, we can calculate the **false negative rate (FNR)** or the miss rate:\n",
    "\n",
    "$$ FNR = \\frac{FN}{FN + TP} $$\n",
    "\n",
    "and the **false omission rate (FOR)**:\n",
    "\n",
    "$$ FOR = \\frac{FN}{FN + TN} $$"
   ]
  },
  {
   "cell_type": "code",
   "execution_count": 86,
   "metadata": {},
   "outputs": [
    {
     "data": {
      "text/plain": [
       "(0.0, 0.0)"
      ]
     },
     "execution_count": 86,
     "metadata": {},
     "output_type": "execute_result"
    }
   ],
   "source": [
    "# fnr, for\n",
    "fn / (fn + tp), fn / (fn + tn)"
   ]
  },
  {
   "cell_type": "markdown",
   "metadata": {},
   "source": [
    "Let's create a function to calculate all of this for us, so we can compare the methods:"
   ]
  },
  {
   "cell_type": "code",
   "execution_count": 87,
   "metadata": {},
   "outputs": [],
   "source": [
    "def classification_stats(tp, fp, tn, fn):\n",
    "    \"\"\"Calculate metrics\"\"\"\n",
    "    return {\n",
    "        'FPR': fp / (fp + tn),\n",
    "        'FDR': fp / (fp + tp),\n",
    "        'FNR': fn / (fn + tp),\n",
    "        'FOR': fn / (fn + tn)\n",
    "    }"
   ]
  },
  {
   "cell_type": "markdown",
   "metadata": {},
   "source": [
    "Percent difference from the mean using trimmed baselines performs well all around:"
   ]
  },
  {
   "cell_type": "code",
   "execution_count": 88,
   "metadata": {},
   "outputs": [
    {
     "data": {
      "text/plain": [
       "{'FPR': 0.017587939698492462,\n",
       " 'FDR': 0.08433734939759036,\n",
       " 'FNR': 0.0,\n",
       " 'FOR': 0.0}"
      ]
     },
     "execution_count": 88,
     "metadata": {},
     "output_type": "execute_result"
    }
   ],
   "source": [
    "classification_stats(tp, fp, tn, fn)"
   ]
  },
  {
   "cell_type": "markdown",
   "metadata": {},
   "source": [
    "#### Percent Difference from the Median\n",
    "We don't need to use the trimmed data here because the median is robust to outliers:"
   ]
  },
  {
   "cell_type": "code",
   "execution_count": 89,
   "metadata": {},
   "outputs": [
    {
     "data": {
      "text/plain": [
       "{'FPR': 0.01256281407035176,\n",
       " 'FDR': 0.06172839506172839,\n",
       " 'FNR': 0.0,\n",
       " 'FOR': 0.0}"
      ]
     },
     "execution_count": 89,
     "metadata": {},
     "output_type": "execute_result"
    }
   ],
   "source": [
    "medians = get_baselines(hourly_ip_logs, 'median')\n",
    "pct_from_median_ips = pct_change_threshold(\n",
    "    hourly_ip_logs, medians, \n",
    "    {key: 1.25 for key in ['username', 'attempts', 'failure_rate']}\n",
    ")\n",
    "tp, fp, tn, fn = scores(pct_from_median_ips)\n",
    "classification_stats(tp, fp, tn, fn)"
   ]
  },
  {
   "cell_type": "markdown",
   "metadata": {},
   "source": [
    "#### Comparing Methods\n",
    "We can use a `DataFrame` object to easily compare the methods we tried. All perform well, which one we use in practice will depend on the cost of false negatives vs. false positives:"
   ]
  },
  {
   "cell_type": "code",
   "execution_count": 90,
   "metadata": {},
   "outputs": [
    {
     "data": {
      "text/html": [
       "<div>\n",
       "<style scoped>\n",
       "    .dataframe tbody tr th:only-of-type {\n",
       "        vertical-align: middle;\n",
       "    }\n",
       "\n",
       "    .dataframe tbody tr th {\n",
       "        vertical-align: top;\n",
       "    }\n",
       "\n",
       "    .dataframe thead th {\n",
       "        text-align: right;\n",
       "    }\n",
       "</style>\n",
       "<table border=\"1\" class=\"dataframe\">\n",
       "  <thead>\n",
       "    <tr style=\"text-align: right;\">\n",
       "      <th></th>\n",
       "      <th>means</th>\n",
       "      <th>medians</th>\n",
       "      <th>Tukey fence</th>\n",
       "      <th>Z-scores</th>\n",
       "    </tr>\n",
       "  </thead>\n",
       "  <tbody>\n",
       "    <tr>\n",
       "      <th>FPR</th>\n",
       "      <td>0.017588</td>\n",
       "      <td>0.012563</td>\n",
       "      <td>0.000000</td>\n",
       "      <td>0.000000</td>\n",
       "    </tr>\n",
       "    <tr>\n",
       "      <th>FDR</th>\n",
       "      <td>0.084337</td>\n",
       "      <td>0.061728</td>\n",
       "      <td>0.000000</td>\n",
       "      <td>0.000000</td>\n",
       "    </tr>\n",
       "    <tr>\n",
       "      <th>FNR</th>\n",
       "      <td>0.000000</td>\n",
       "      <td>0.000000</td>\n",
       "      <td>0.447368</td>\n",
       "      <td>0.118421</td>\n",
       "    </tr>\n",
       "    <tr>\n",
       "      <th>FOR</th>\n",
       "      <td>0.000000</td>\n",
       "      <td>0.000000</td>\n",
       "      <td>0.078704</td>\n",
       "      <td>0.022113</td>\n",
       "    </tr>\n",
       "  </tbody>\n",
       "</table>\n",
       "</div>"
      ],
      "text/plain": [
       "        means   medians  Tukey fence  Z-scores\n",
       "FPR  0.017588  0.012563     0.000000  0.000000\n",
       "FDR  0.084337  0.061728     0.000000  0.000000\n",
       "FNR  0.000000  0.000000     0.447368  0.118421\n",
       "FOR  0.000000  0.000000     0.078704  0.022113"
      ]
     },
     "execution_count": 90,
     "metadata": {},
     "output_type": "execute_result"
    }
   ],
   "source": [
    "pd.DataFrame({\n",
    "    method: classification_stats(*scores(ips))\n",
    "    for method, ips in {\n",
    "        'means': pct_from_mean_ips,\n",
    "        'medians': pct_from_median_ips,\n",
    "        'Tukey fence': tukey_fence_ips,\n",
    "        'Z-scores': z_score_ips\n",
    "    }.items()\n",
    "})"
   ]
  }
 ],
 "metadata": {
  "kernelspec": {
   "display_name": "Python 3",
   "language": "python",
   "name": "python3"
  },
  "language_info": {
   "codemirror_mode": {
    "name": "ipython",
    "version": 3
   },
   "file_extension": ".py",
   "mimetype": "text/x-python",
   "name": "python",
   "nbconvert_exporter": "python",
   "pygments_lexer": "ipython3",
   "version": "3.10.6"
  },
  "vscode": {
   "interpreter": {
    "hash": "916dbcbb3f70747c44a77c7bcd40155683ae19c65e1c03b4aa3499c5328201f1"
   }
  }
 },
 "nbformat": 4,
 "nbformat_minor": 4
}
